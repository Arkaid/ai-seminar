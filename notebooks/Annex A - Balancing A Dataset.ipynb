{
 "cells": [
  {
   "cell_type": "markdown",
   "metadata": {},
   "source": [
    "# データセットのバランス\n",
    "\n",
    "いずれかのデータのほうが多い場合は、学習が崩れてしまうので、ある程度に各種のカテゴリーから同じデータ量があると良い"
   ]
  },
  {
   "cell_type": "code",
   "execution_count": 1,
   "metadata": {},
   "outputs": [],
   "source": [
    "import random\n",
    "\n",
    "# データセットを読み込み、余計なデータを削除\n",
    "def cleanup_dataset():\n",
    "\n",
    "    import csv\n",
    "    \n",
    "    raw_dataset = []\n",
    "\n",
    "    csv_file = open(\"data/password_strength_raw.csv\", newline='', encoding=\"utf-8_sig\")\n",
    "    reader = csv.reader(csv_file)\n",
    "\n",
    "    for line in reader:\n",
    "         \n",
    "        strength = line[0]\n",
    "        password = line[1]\n",
    "        \n",
    "        if not strength.isnumeric():\n",
    "            continue\n",
    "\n",
    "        if not isinstance(password, str):\n",
    "            password = str(password)\n",
    "        \n",
    "        if password == \"\":\n",
    "            continue\n",
    "            \n",
    "        raw_dataset.append((password, int(strength)))\n",
    "\n",
    "    return raw_dataset\n",
    "\n"
   ]
  },
  {
   "cell_type": "code",
   "execution_count": 2,
   "metadata": {},
   "outputs": [],
   "source": [
    "# データを読み込む\n",
    "cleanup = cleanup_dataset()"
   ]
  },
  {
   "cell_type": "code",
   "execution_count": 3,
   "metadata": {},
   "outputs": [
    {
     "name": "stdout",
     "output_type": "stream",
     "text": [
      "[('123456', 0), ('12345', 0), ('123456789', 0), ('password', 0), ('iloveyou', 0), ('princess', 0), ('1234567', 0), ('rockyou', 1), ('12345678', 0), ('abc123', 0), ('nicole', 0), ('daniel', 0), ('babygirl', 0), ('monkey', 0), ('lovely', 0), ('jessica', 0), ('654321', 0), ('michael', 0), ('ashley', 0), ('qwerty', 0), ('111111', 0), ('iloveu', 0), ('000000', 0), ('michelle', 0), ('tigger', 0), ('sunshine', 0), ('chocolate', 1), ('password1', 0), ('soccer', 0), ('anthony', 0), ('friends', 0), ('butterfly', 0), ('purple', 0), ('angel', 0), ('jordan', 0), ('liverpool', 0), ('justin', 0), ('loveme', 0), ('fuckyou', 0), ('123123', 0), ('football', 0), ('secret', 0), ('andrea', 0), ('carlos', 0), ('jennifer', 0), ('joshua', 0), ('bubbles', 0), ('1234567890', 0), ('superman', 0), ('hannah', 0)]\n"
     ]
    }
   ],
   "source": [
    "print(cleanup[0:50])"
   ]
  },
  {
   "cell_type": "code",
   "execution_count": 4,
   "metadata": {},
   "outputs": [],
   "source": [
    "# バランスを取る\n",
    "def balance_dataset(raw_dataset):\n",
    "    \n",
    "    # 0, 1, 2, 3, 4の各種のパスワードを分ける\n",
    "    sub_dataset = [[], [], [], [], []]\n",
    "    for pwd in raw_dataset:\n",
    "        sub_dataset[pwd[1]].append(pwd)\n",
    "        \n",
    "    # 最も少ないグループをはどれ？\n",
    "    max_count = len(sub_dataset[0])\n",
    "    max_count = min(max_count, len(sub_dataset[1]))\n",
    "    max_count = min(max_count, len(sub_dataset[2]))\n",
    "    max_count = min(max_count, len(sub_dataset[3]))\n",
    "    max_count = min(max_count, len(sub_dataset[4]))\n",
    "    \n",
    "    # 少し余裕(25%)を作る\n",
    "    max_count *= 1.25\n",
    "    \n",
    "    # バランス前の状態\n",
    "    print(len(sub_dataset[0]), len(sub_dataset[1]), len(sub_dataset[2]), len(sub_dataset[3]), len(sub_dataset[4]))\n",
    "    \n",
    "    # オーバーしているグループからデータを消す\n",
    "    for i in range(5):\n",
    "        \n",
    "        data_len = len(sub_dataset[i])\n",
    "        while (data_len > max_count):\n",
    "\n",
    "            # ランダムの範囲を選択（最大200個)\n",
    "            min_idx = random.randrange(data_len)\n",
    "            max_idx = min_idx + random.randrange(1, 200)\n",
    "            max_idx = min(max_idx, data_len)\n",
    "            \n",
    "            # 削除\n",
    "            del sub_dataset[i][min_idx:max_idx]\n",
    "            \n",
    "            # グループの長さを求める\n",
    "            data_len = len(sub_dataset[i])\n",
    "            print(\"\\r\" + str(data_len) + \"            \", end=\"\")\n",
    "\n",
    "        print(\"\")\n",
    "        \n",
    "    # バランスあとの状態\n",
    "    print(len(sub_dataset[0]), len(sub_dataset[1]), len(sub_dataset[2]), len(sub_dataset[3]), len(sub_dataset[4]))\n",
    "    \n",
    "    # 全のグループを合成\n",
    "    merged =  sub_dataset[0]\n",
    "    merged += sub_dataset[1]\n",
    "    merged += sub_dataset[2]\n",
    "    merged += sub_dataset[3]\n",
    "    merged += sub_dataset[4]\n",
    "    \n",
    "    # シャッフル\n",
    "    random.shuffle(merged)\n",
    "    return merged"
   ]
  },
  {
   "cell_type": "code",
   "execution_count": 5,
   "metadata": {},
   "outputs": [
    {
     "name": "stdout",
     "output_type": "stream",
     "text": [
      "29903 5116664 5214085 3026092 957646\n",
      "\n",
      "37336              \n",
      "37280              \n",
      "37241              \n",
      "37320             \n",
      "29903 37336 37280 37241 37320\n"
     ]
    }
   ],
   "source": [
    "balance = balance_dataset(cleanup)"
   ]
  },
  {
   "cell_type": "code",
   "execution_count": 6,
   "metadata": {},
   "outputs": [
    {
     "name": "stdout",
     "output_type": "stream",
     "text": [
      "[('nahpets', 0), ('sasa2727', 1), ('lilboost', 2), ('4408tiiyt', 3), ('schuessler', 3), ('1033704045', 3), ('smurfy23', 2), ('milagrsy gernys', 4), ('7h0mp50n', 0), ('wutsuphomeboy', 3), ('TERESA', 0), ('hoddboty1', 3), ('patty', 0), ('lucky038', 1), ('Tummykiwi151', 4), ('pipsonly1', 3), ('akamaru16', 3), ('45192480093', 3), ('smurf26', 2), ('25761838', 2), ('4snickers', 1), ('informacion(29', 4), ('ams', 0), ('2890427226702', 4), ('vivalavida72', 4), ('84671395', 2), ('141079101104', 4), ('930221065280*', 4), ('jhahjhab', 2), ('chaminda', 2), ('Cilit123', 2), ('la', 0), ('espin0za', 0), ('?*?+&^&', 2), ('dixiedixie', 0), ('vtiscool1', 3), ('iraronnel', 3), ('hugolasso1982', 4), ('0802405954', 3), ('agudelorosero924', 4), ('a2353885', 2), ('5288610', 2), ('42dodge', 1), ('STUBBY', 1), ('slubber1', 2), ('santo5', 0), ('CALLME0103', 3), ('rockyou109', 2), ('085223420132', 3), ('brad784ever388', 4)]\n"
     ]
    }
   ],
   "source": [
    "print(balance[0:50])"
   ]
  },
  {
   "cell_type": "code",
   "execution_count": 7,
   "metadata": {},
   "outputs": [],
   "source": [
    "# データを保存\n",
    "def save_dataset(dataset):\n",
    "\n",
    "    import csv\n",
    "    \n",
    "    raw_dataset = []\n",
    "\n",
    "    csv_file = open(\"data/password_strength.csv\", 'w', newline='', encoding=\"utf-8_sig\")\n",
    "    writer = csv.writer(csv_file)\n",
    "\n",
    "    for item in dataset:   \n",
    "        writer.writerow(item)\n",
    "        \n",
    "save_dataset(balance)"
   ]
  }
 ],
 "metadata": {
  "kernelspec": {
   "display_name": "Python 3 (ipykernel)",
   "language": "python",
   "name": "python3"
  },
  "language_info": {
   "codemirror_mode": {
    "name": "ipython",
    "version": 3
   },
   "file_extension": ".py",
   "mimetype": "text/x-python",
   "name": "python",
   "nbconvert_exporter": "python",
   "pygments_lexer": "ipython3",
   "version": "3.8.13"
  }
 },
 "nbformat": 4,
 "nbformat_minor": 4
}
