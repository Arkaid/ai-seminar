{
 "cells": [
  {
   "cell_type": "markdown",
   "metadata": {},
   "source": [
    "# 相関を確認\n",
    "\n",
    "同じデータセットでも、余計データを含まれている可能性があるので、入力変数はお互いに相関がないかを確認したほうが良い。"
   ]
  },
  {
   "cell_type": "code",
   "execution_count": 1,
   "metadata": {},
   "outputs": [],
   "source": [
    "import pandas as pd"
   ]
  },
  {
   "cell_type": "code",
   "execution_count": 2,
   "metadata": {},
   "outputs": [],
   "source": [
    "# 生のデータセットを読み込む\n",
    "def load_raw_dataset():\n",
    "\n",
    "    import csv\n",
    "    \n",
    "    raw_dataset = []\n",
    "\n",
    "    csv_file = open(\"data/password_strength.csv\", newline='', encoding=\"utf-8_sig\")\n",
    "    reader = csv.reader(csv_file)\n",
    "\n",
    "    # csv ファイルの各行を確認\n",
    "    for line in reader:\n",
    "         \n",
    "        password = line[0]\n",
    "        strength = line[1]\n",
    "        \n",
    "        # 強さが数値じゃなければ、使わない\n",
    "        if not strength.isnumeric():\n",
    "            continue\n",
    "    \n",
    "        raw_dataset.append((password, int(strength)))\n",
    "\n",
    "    return raw_dataset"
   ]
  },
  {
   "cell_type": "code",
   "execution_count": 3,
   "metadata": {},
   "outputs": [
    {
     "name": "stdout",
     "output_type": "stream",
     "text": [
      "[('nahpets', 0), ('sasa2727', 1), ('lilboost', 2), ('4408tiiyt', 3), ('schuessler', 3), ('1033704045', 3), ('smurfy23', 2), ('milagrsy gernys', 4), ('7h0mp50n', 0), ('wutsuphomeboy', 3), ('TERESA', 0), ('hoddboty1', 3), ('patty', 0), ('lucky038', 1), ('Tummykiwi151', 4), ('pipsonly1', 3), ('akamaru16', 3), ('45192480093', 3), ('smurf26', 2), ('25761838', 2)]\n"
     ]
    }
   ],
   "source": [
    "# 読み込んで、最初の20件を表示\n",
    "raw_dataset = load_raw_dataset()\n",
    "print(raw_dataset[0:20])"
   ]
  },
  {
   "cell_type": "code",
   "execution_count": 4,
   "metadata": {},
   "outputs": [],
   "source": [
    "def count_letters(password):\n",
    "    \n",
    "    count_length = 0\n",
    "    count_small  = 0\n",
    "    count_large  = 0\n",
    "    count_number = 0\n",
    "    count_symbol = 0   \n",
    "        \n",
    "    for ch in password:\n",
    "        \n",
    "        count_length += 1\n",
    "        \n",
    "        if ch.isdigit():\n",
    "            count_number += 1\n",
    "        elif ch.islower():\n",
    "            count_small  += 1\n",
    "        elif ch.isupper():\n",
    "            count_large  += 1\n",
    "        else:\n",
    "            count_symbol += 1\n",
    "            \n",
    "    return count_length, count_small, count_large, count_number, count_symbol"
   ]
  },
  {
   "cell_type": "code",
   "execution_count": 5,
   "metadata": {},
   "outputs": [],
   "source": [
    "def check_correlation(raw_dataset):\n",
    "    \n",
    "    data = {\n",
    "        'length' : [],\n",
    "        'small'  : [],\n",
    "        'large'  : [],\n",
    "        'number' : [],\n",
    "        'symbol' : [],\n",
    "        'strength':[]\n",
    "    }\n",
    "    \n",
    "    for value in raw_dataset:\n",
    "        password = value[0]\n",
    "        count = count_letters(password)\n",
    "        \n",
    "        data['length'].append(count[0])\n",
    "        data['small'].append(count[1])\n",
    "        data['large'].append(count[2])\n",
    "        data['number'].append(count[3])\n",
    "        data['symbol'].append(count[4])\n",
    "        data['strength'].append(value[1])\n",
    "    \n",
    "    df = pd.DataFrame(data,columns=['length','small','large','number','symbol','strength'])\n",
    "\n",
    "    corrMatrix = df.corr()\n",
    "    print (corrMatrix)\n"
   ]
  },
  {
   "cell_type": "code",
   "execution_count": 6,
   "metadata": {},
   "outputs": [
    {
     "name": "stdout",
     "output_type": "stream",
     "text": [
      "            length     small     large    number    symbol  strength\n",
      "length    1.000000  0.823502  0.004417  0.257966  0.793979  0.338257\n",
      "small     0.823502  1.000000 -0.212393 -0.233534  0.604880  0.283336\n",
      "large     0.004417 -0.212393  1.000000 -0.124606 -0.000108 -0.072549\n",
      "number    0.257966 -0.233534 -0.124606  1.000000  0.097025  0.215947\n",
      "symbol    0.793979  0.604880 -0.000108  0.097025  1.000000  0.084607\n",
      "strength  0.338257  0.283336 -0.072549  0.215947  0.084607  1.000000\n"
     ]
    }
   ],
   "source": [
    "check_correlation(raw_dataset)"
   ]
  },
  {
   "cell_type": "markdown",
   "metadata": {},
   "source": [
    "上記の出力をみると、各変数はお互いに強い相関(0.8以上 or -0.8以下）がないと考えられる"
   ]
  }
 ],
 "metadata": {
  "kernelspec": {
   "display_name": "Python 3 (ipykernel)",
   "language": "python",
   "name": "python3"
  },
  "language_info": {
   "codemirror_mode": {
    "name": "ipython",
    "version": 3
   },
   "file_extension": ".py",
   "mimetype": "text/x-python",
   "name": "python",
   "nbconvert_exporter": "python",
   "pygments_lexer": "ipython3",
   "version": "3.8.13"
  }
 },
 "nbformat": 4,
 "nbformat_minor": 4
}
