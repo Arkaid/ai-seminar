{
 "cells": [
  {
   "cell_type": "markdown",
   "metadata": {},
   "source": [
    "# パスワードの強さを確認しよう\n",
    "\n",
    "まずは、データセットを読み込んで、確認しましょう。"
   ]
  },
  {
   "cell_type": "code",
   "execution_count": 1,
   "metadata": {},
   "outputs": [],
   "source": [
    "# 生のデータセットを読み込む\n",
    "def load_raw_dataset():\n",
    "\n",
    "    import csv\n",
    "    \n",
    "    raw_dataset = []\n",
    "\n",
    "    csv_file = open(\"data/password_strength.csv\", newline='', encoding=\"utf-8_sig\")\n",
    "    reader = csv.reader(csv_file)\n",
    "\n",
    "    # csv ファイルの各行を確認\n",
    "    for line in reader:\n",
    "         \n",
    "        password = line[0]\n",
    "        strength = line[1]\n",
    "        \n",
    "        # 強さが数値じゃなければ、使わない\n",
    "        if not strength.isnumeric():\n",
    "            continue\n",
    "    \n",
    "        raw_dataset.append((password, int(strength)))\n",
    "\n",
    "    return raw_dataset"
   ]
  },
  {
   "cell_type": "code",
   "execution_count": 2,
   "metadata": {},
   "outputs": [
    {
     "name": "stdout",
     "output_type": "stream",
     "text": [
      "[('INTONG', 1), ('kayda!', 1), ('0897544900', 3), ('ROB3RT', 0), ('foreverz088', 2), ('aoaekajojoe', 4), ('tiffany', 0), ('nique1684', 3), ('humphrey12', 1), ('liquidsnakesolid', 4), ('poomins04', 3), ('hugoma', 1), ('20244912', 1), ('jamesferguson', 1), ('prosentia', 2), ('0876995162', 3), ('londres_16', 3), ('085009500121', 3), ('P@SSw0rd', 0), ('pisayki', 2)]\n"
     ]
    }
   ],
   "source": [
    "# 読み込んで、最初の20件を表示\n",
    "raw_dataset = load_raw_dataset()\n",
    "print(raw_dataset[0:20])"
   ]
  },
  {
   "cell_type": "markdown",
   "metadata": {},
   "source": [
    "## 前処理\n",
    "\n",
    "パスワード自体をネットワークの入力に変換できるため、前処理をしなければならない。\n",
    "\n",
    "今回はパスワードのなｇ"
   ]
  },
  {
   "cell_type": "code",
   "execution_count": 3,
   "metadata": {},
   "outputs": [],
   "source": [
    "def count_letters(password):\n",
    "    \n",
    "    count_length = 0\n",
    "    count_small  = 0\n",
    "    count_large  = 0\n",
    "    count_number = 0\n",
    "    count_symbol = 0   \n",
    "        \n",
    "    for ch in password:\n",
    "        \n",
    "        count_length += 1\n",
    "        \n",
    "        if ch.isdigit():\n",
    "            count_number += 1\n",
    "        elif ch.islower():\n",
    "            count_small  += 1\n",
    "        elif ch.isupper():\n",
    "            count_large  += 1\n",
    "        else:\n",
    "            count_symbol += 1\n",
    "            \n",
    "    return count_length, count_small, count_large, count_number, count_symbol"
   ]
  },
  {
   "cell_type": "code",
   "execution_count": 4,
   "metadata": {},
   "outputs": [
    {
     "name": "stdout",
     "output_type": "stream",
     "text": [
      "(9, 2, 2, 4, 1)\n"
     ]
    }
   ],
   "source": [
    "count = count_letters(\"1234abCD!\")\n",
    "print(count)"
   ]
  },
  {
   "cell_type": "code",
   "execution_count": 5,
   "metadata": {},
   "outputs": [],
   "source": [
    "def password_to_input(password):\n",
    "    \n",
    "    count = count_letters(password)\n",
    "    max_length = 20\n",
    "    \n",
    "    x = [0, 0, 0, 0, 0]\n",
    "\n",
    "    x[0] = min(count[0], max_length) / max_length\n",
    "    x[1] = min(count[1], max_length) / max_length\n",
    "    x[2] = min(count[2], max_length) / max_length\n",
    "    x[3] = min(count[3], max_length) / max_length\n",
    "    x[4] = min(count[4], 1)\n",
    "    \n",
    "    return x"
   ]
  },
  {
   "cell_type": "code",
   "execution_count": 6,
   "metadata": {},
   "outputs": [
    {
     "name": "stdout",
     "output_type": "stream",
     "text": [
      "(9, 2, 2, 4, 1)\n",
      "[0.45, 0.1, 0.1, 0.2, 1]\n"
     ]
    }
   ],
   "source": [
    "test = \"1234abCD!\"\n",
    "print (count_letters(test))\n",
    "print (password_to_input(test))"
   ]
  },
  {
   "cell_type": "code",
   "execution_count": 7,
   "metadata": {},
   "outputs": [
    {
     "name": "stdout",
     "output_type": "stream",
     "text": [
      "(15, 2, 5, 4, 4)\n",
      "[0.75, 0.1, 0.25, 0.2, 1]\n"
     ]
    }
   ],
   "source": [
    "test = \"1234abCDDDD!!!!\"\n",
    "print (count_letters(test))\n",
    "print (password_to_input(test))"
   ]
  },
  {
   "cell_type": "code",
   "execution_count": 8,
   "metadata": {},
   "outputs": [],
   "source": [
    "def password_to_input(password):\n",
    "    \n",
    "    count = count_letters(password)\n",
    "    max_length = 20\n",
    "    \n",
    "    x = [0, 0, 0, 0, 0]\n",
    "\n",
    "    x[0] = min(count[0], max_length) / max_length\n",
    "    x[1] = min(count[1], count[0]) / count[0]\n",
    "    x[2] = min(count[2], count[0]) / count[0]\n",
    "    x[3] = min(count[3], count[0]) / count[0]\n",
    "    x[4] = min(count[4], 1)\n",
    "    \n",
    "    return x"
   ]
  },
  {
   "cell_type": "code",
   "execution_count": 9,
   "metadata": {},
   "outputs": [
    {
     "name": "stdout",
     "output_type": "stream",
     "text": [
      "(9, 2, 2, 4, 1)\n",
      "[0.45, 0.2222222222222222, 0.2222222222222222, 0.4444444444444444, 1]\n"
     ]
    }
   ],
   "source": [
    "test = \"1234abCD!\"\n",
    "print (count_letters(test))\n",
    "print (password_to_input(test))"
   ]
  },
  {
   "cell_type": "code",
   "execution_count": 10,
   "metadata": {},
   "outputs": [
    {
     "name": "stdout",
     "output_type": "stream",
     "text": [
      "(15, 2, 5, 4, 4)\n",
      "[0.75, 0.13333333333333333, 0.3333333333333333, 0.26666666666666666, 1]\n"
     ]
    }
   ],
   "source": [
    "test = \"1234abCDDDD!!!!\"\n",
    "print (count_letters(test))\n",
    "print (password_to_input(test))"
   ]
  },
  {
   "cell_type": "code",
   "execution_count": 11,
   "metadata": {},
   "outputs": [],
   "source": [
    "def strength_to_onehot(strength):\n",
    "    \n",
    "    y = [0.0, 0.0, 0.0, 0.0, 0.0]\n",
    "    y[strength] = 1.0\n",
    "    \n",
    "    return y"
   ]
  },
  {
   "cell_type": "code",
   "execution_count": 12,
   "metadata": {},
   "outputs": [],
   "source": [
    "import numpy as np\n",
    "\n",
    "def prepare_dataset(raw_dataset):\n",
    "    \n",
    "    data_x = []\n",
    "    data_y = []\n",
    "    \n",
    "    for line in raw_dataset:\n",
    "        \n",
    "        password = line[0]\n",
    "        strength = line[1]\n",
    "\n",
    "        x = password_to_input(password)\n",
    "        y = strength_to_onehot(strength)\n",
    "    \n",
    "        data_x.append(x)\n",
    "        data_y.append(y)\n",
    "\n",
    "    data_x = np.array(data_x)\n",
    "    data_y = np.array(data_y)\n",
    "    \n",
    "    return data_x, data_y\n",
    "\n",
    "data_x, data_y = prepare_dataset(raw_dataset)"
   ]
  },
  {
   "cell_type": "code",
   "execution_count": 13,
   "metadata": {},
   "outputs": [
    {
     "name": "stdout",
     "output_type": "stream",
     "text": [
      "[[0.3        0.         1.         0.         0.        ]\n",
      " [0.3        0.83333333 0.         0.         1.        ]\n",
      " [0.5        0.         0.         1.         0.        ]\n",
      " [0.3        0.         0.83333333 0.16666667 0.        ]\n",
      " [0.55       0.72727273 0.         0.27272727 0.        ]\n",
      " [0.55       1.         0.         0.         0.        ]\n",
      " [0.35       1.         0.         0.         0.        ]\n",
      " [0.45       0.55555556 0.         0.44444444 0.        ]\n",
      " [0.5        0.8        0.         0.2        0.        ]\n",
      " [0.8        1.         0.         0.         0.        ]\n",
      " [0.45       0.77777778 0.         0.22222222 0.        ]\n",
      " [0.3        1.         0.         0.         0.        ]\n",
      " [0.4        0.         0.         1.         0.        ]\n",
      " [0.65       1.         0.         0.         0.        ]\n",
      " [0.45       1.         0.         0.         0.        ]\n",
      " [0.5        0.         0.         1.         0.        ]\n",
      " [0.5        0.7        0.         0.2        1.        ]\n",
      " [0.6        0.         0.         1.         0.        ]\n",
      " [0.4        0.375      0.375      0.125      1.        ]\n",
      " [0.35       1.         0.         0.         0.        ]]\n",
      "[[0. 1. 0. 0. 0.]\n",
      " [0. 1. 0. 0. 0.]\n",
      " [0. 0. 0. 1. 0.]\n",
      " [1. 0. 0. 0. 0.]\n",
      " [0. 0. 1. 0. 0.]\n",
      " [0. 0. 0. 0. 1.]\n",
      " [1. 0. 0. 0. 0.]\n",
      " [0. 0. 0. 1. 0.]\n",
      " [0. 1. 0. 0. 0.]\n",
      " [0. 0. 0. 0. 1.]\n",
      " [0. 0. 0. 1. 0.]\n",
      " [0. 1. 0. 0. 0.]\n",
      " [0. 1. 0. 0. 0.]\n",
      " [0. 1. 0. 0. 0.]\n",
      " [0. 0. 1. 0. 0.]\n",
      " [0. 0. 0. 1. 0.]\n",
      " [0. 0. 0. 1. 0.]\n",
      " [0. 0. 0. 1. 0.]\n",
      " [1. 0. 0. 0. 0.]\n",
      " [0. 0. 1. 0. 0.]]\n"
     ]
    }
   ],
   "source": [
    "print(data_x[0:20])\n",
    "print(data_y[0:20])"
   ]
  },
  {
   "cell_type": "code",
   "execution_count": 14,
   "metadata": {},
   "outputs": [
    {
     "name": "stdout",
     "output_type": "stream",
     "text": [
      "Model: \"functional_1\"\n",
      "_________________________________________________________________\n",
      "Layer (type)                 Output Shape              Param #   \n",
      "=================================================================\n",
      "input_1 (InputLayer)         [(None, 5)]               0         \n",
      "_________________________________________________________________\n",
      "dense (Dense)                (None, 16)                96        \n",
      "_________________________________________________________________\n",
      "dense_1 (Dense)              (None, 32)                544       \n",
      "_________________________________________________________________\n",
      "dense_2 (Dense)              (None, 64)                2112      \n",
      "_________________________________________________________________\n",
      "dense_3 (Dense)              (None, 32)                2080      \n",
      "_________________________________________________________________\n",
      "dense_4 (Dense)              (None, 16)                528       \n",
      "_________________________________________________________________\n",
      "dense_5 (Dense)              (None, 5)                 85        \n",
      "=================================================================\n",
      "Total params: 5,445\n",
      "Trainable params: 5,445\n",
      "Non-trainable params: 0\n",
      "_________________________________________________________________\n"
     ]
    }
   ],
   "source": [
    "from keras.layers import Input, Dense\n",
    "from keras.models import Model\n",
    "\n",
    "def create_model():\n",
    "    \n",
    "    lyr_input = Input(shape=(5,))\n",
    "    lyr_hiddn = Dense(units=16, activation=\"relu\")(lyr_input)\n",
    "    lyr_hiddn = Dense(units=32, activation=\"relu\")(lyr_hiddn)\n",
    "    lyr_hiddn = Dense(units=64, activation=\"relu\")(lyr_hiddn)\n",
    "    lyr_hiddn = Dense(units=32, activation=\"relu\")(lyr_hiddn)\n",
    "    lyr_hiddn = Dense(units=16, activation=\"relu\")(lyr_hiddn)\n",
    "    lyr_outpt = Dense(units=5, activation=\"softmax\")(lyr_hiddn)\n",
    "    \n",
    "    model = Model(inputs=lyr_input, outputs=lyr_outpt)\n",
    "    model.summary()\n",
    "    \n",
    "    model.compile(optimizer=\"adam\", loss=\"categorical_crossentropy\")\n",
    "    \n",
    "    return model\n",
    "    \n",
    "model = create_model()"
   ]
  },
  {
   "cell_type": "code",
   "execution_count": 15,
   "metadata": {},
   "outputs": [
    {
     "name": "stdout",
     "output_type": "stream",
     "text": [
      "Epoch 1/20\n",
      "2867/2867 [==============================] - 2s 740us/step - loss: 0.9277 - val_loss: 0.8887\n",
      "Epoch 2/20\n",
      "2867/2867 [==============================] - 2s 800us/step - loss: 0.8575 - val_loss: 0.8606\n",
      "Epoch 3/20\n",
      "2867/2867 [==============================] - 2s 815us/step - loss: 0.8420 - val_loss: 0.8847\n",
      "Epoch 4/20\n",
      "2867/2867 [==============================] - 2s 802us/step - loss: 0.8347 - val_loss: 0.8353\n",
      "Epoch 5/20\n",
      "2867/2867 [==============================] - 2s 792us/step - loss: 0.8299 - val_loss: 0.8328\n",
      "Epoch 6/20\n",
      "2867/2867 [==============================] - 3s 930us/step - loss: 0.8268 - val_loss: 0.8303\n",
      "Epoch 7/20\n",
      "2867/2867 [==============================] - 2s 868us/step - loss: 0.8232 - val_loss: 0.8403\n",
      "Epoch 8/20\n",
      "2867/2867 [==============================] - 2s 779us/step - loss: 0.8209 - val_loss: 0.8316\n",
      "Epoch 9/20\n",
      "2867/2867 [==============================] - 2s 860us/step - loss: 0.8196 - val_loss: 0.8263\n",
      "Epoch 10/20\n",
      "2867/2867 [==============================] - 3s 928us/step - loss: 0.8183 - val_loss: 0.8265\n",
      "Epoch 11/20\n",
      "2867/2867 [==============================] - 3s 951us/step - loss: 0.8157 - val_loss: 0.8340\n",
      "Epoch 12/20\n",
      "2867/2867 [==============================] - 3s 977us/step - loss: 0.8153 - val_loss: 0.8225\n",
      "Epoch 13/20\n",
      "2867/2867 [==============================] - 3s 1ms/step - loss: 0.8141 - val_loss: 0.8211\n",
      "Epoch 14/20\n",
      "2867/2867 [==============================] - 3s 994us/step - loss: 0.8133 - val_loss: 0.8208\n",
      "Epoch 15/20\n",
      "2867/2867 [==============================] - 3s 994us/step - loss: 0.8127 - val_loss: 0.8269\n",
      "Epoch 16/20\n",
      "2867/2867 [==============================] - 3s 1ms/step - loss: 0.8116 - val_loss: 0.8205\n",
      "Epoch 17/20\n",
      "2867/2867 [==============================] - 3s 993us/step - loss: 0.8113 - val_loss: 0.8137\n",
      "Epoch 18/20\n",
      "2867/2867 [==============================] - 3s 988us/step - loss: 0.8101 - val_loss: 0.8163\n",
      "Epoch 19/20\n",
      "2867/2867 [==============================] - 3s 967us/step - loss: 0.8098 - val_loss: 0.8188\n",
      "Epoch 20/20\n",
      "2867/2867 [==============================] - 3s 1ms/step - loss: 0.8093 - val_loss: 0.8184\n"
     ]
    },
    {
     "data": {
      "text/plain": [
       "<tensorflow.python.keras.callbacks.History at 0x2b32d1eeaf0>"
      ]
     },
     "execution_count": 15,
     "metadata": {},
     "output_type": "execute_result"
    }
   ],
   "source": [
    "# 学習開始\n",
    "# 検証用のデータ割合：20%\n",
    "model.fit(data_x, data_y, epochs=20, batch_size=50, validation_split=0.2)"
   ]
  },
  {
   "cell_type": "code",
   "execution_count": 16,
   "metadata": {},
   "outputs": [],
   "source": [
    "np.set_printoptions(suppress = True)\n",
    "\n",
    "def test_password(password):\n",
    "    \n",
    "    # １つのパスワードを確認\n",
    "    x = password_to_input(password)\n",
    "    x = [x]\n",
    "    x = np.array(x)\n",
    "    \n",
    "    # 推定\n",
    "    y = model.predict(x)[0]\n",
    "\n",
    "    print(\"Prediction:\", y)\n",
    "    \n",
    "    # もっとも信頼性が高いものがどれ？\n",
    "    best = np.argmax(y)\n",
    "    confidence = y[best] * 100\n",
    "    \n",
    "    # 強さを1~5で表示\n",
    "    print(\"Password Strength\", best + 1)\n",
    "    \n",
    "    # 信頼性も表示する\n",
    "    print(\"Confidence:\", confidence)"
   ]
  },
  {
   "cell_type": "code",
   "execution_count": 17,
   "metadata": {},
   "outputs": [
    {
     "name": "stdout",
     "output_type": "stream",
     "text": [
      "Prediction: [0.2896609  0.21102642 0.49916443 0.00014828 0.        ]\n",
      "Password Strength 3\n",
      "Confidence: 49.91644322872162\n"
     ]
    }
   ],
   "source": [
    "test_password(\"pA!sw0rd\")"
   ]
  },
  {
   "cell_type": "code",
   "execution_count": 18,
   "metadata": {},
   "outputs": [
    {
     "name": "stdout",
     "output_type": "stream",
     "text": [
      "Prediction: [0.01471189 0.10564335 0.28219    0.5974548  0.        ]\n",
      "Password Strength 4\n",
      "Confidence: 59.74547863006592\n"
     ]
    }
   ],
   "source": [
    "test_password(\"1sdssig3!\")"
   ]
  },
  {
   "cell_type": "code",
   "execution_count": 19,
   "metadata": {},
   "outputs": [
    {
     "name": "stdout",
     "output_type": "stream",
     "text": [
      "Prediction: [0.06572372 0.15470873 0.7795445  0.00002308 0.        ]\n",
      "Password Strength 3\n",
      "Confidence: 77.9544472694397\n"
     ]
    }
   ],
   "source": [
    "test_password(\"abcd1234\")"
   ]
  },
  {
   "cell_type": "code",
   "execution_count": 20,
   "metadata": {},
   "outputs": [
    {
     "name": "stdout",
     "output_type": "stream",
     "text": [
      "Prediction: [0.10968023 0.19328046 0.6964912  0.00054811 0.        ]\n",
      "Password Strength 3\n",
      "Confidence: 69.64911818504333\n"
     ]
    }
   ],
   "source": [
    "test_password(\"Ab#d!23X\")"
   ]
  },
  {
   "cell_type": "code",
   "execution_count": 21,
   "metadata": {},
   "outputs": [
    {
     "name": "stdout",
     "output_type": "stream",
     "text": [
      "Prediction: [0.00111926 0.00133658 0.0012034  0.02142018 0.97492063]\n",
      "Password Strength 5\n",
      "Confidence: 97.49206304550171\n"
     ]
    }
   ],
   "source": [
    "test_password(\"1e@332!!#asAAS\")"
   ]
  },
  {
   "cell_type": "code",
   "execution_count": 22,
   "metadata": {},
   "outputs": [
    {
     "name": "stdout",
     "output_type": "stream",
     "text": [
      "Prediction: [0.0678362  0.02408047 0.0206981  0.14575726 0.74162793]\n",
      "Password Strength 5\n",
      "Confidence: 74.16279315948486\n"
     ]
    }
   ],
   "source": [
    "test_password(\"aaaaaaaaaaaaaa\")"
   ]
  },
  {
   "cell_type": "code",
   "execution_count": 23,
   "metadata": {},
   "outputs": [
    {
     "name": "stdout",
     "output_type": "stream",
     "text": [
      "[0.55, 0.0, 0.0, 1.0, 0]\n",
      "Prediction: [0.01064994 0.00776803 0.0227388  0.94103974 0.01780351]\n",
      "Password Strength 4\n",
      "Confidence: 94.10397410392761\n"
     ]
    }
   ],
   "source": [
    "test = \"11111111111\"\n",
    "print(password_to_input(test))\n",
    "test_password(test)"
   ]
  }
 ],
 "metadata": {
  "kernelspec": {
   "display_name": "Python 3 (ipykernel)",
   "language": "python",
   "name": "python3"
  },
  "language_info": {
   "codemirror_mode": {
    "name": "ipython",
    "version": 3
   },
   "file_extension": ".py",
   "mimetype": "text/x-python",
   "name": "python",
   "nbconvert_exporter": "python",
   "pygments_lexer": "ipython3",
   "version": "3.8.13"
  }
 },
 "nbformat": 4,
 "nbformat_minor": 4
}
