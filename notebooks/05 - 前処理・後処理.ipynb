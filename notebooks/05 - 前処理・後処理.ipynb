{
 "cells": [
  {
   "cell_type": "markdown",
   "metadata": {},
   "source": [
    "# パスワードの強さを確認しよう\n",
    "\n",
    "まずは、データセットを読み込んで、確認しましょう。"
   ]
  },
  {
   "cell_type": "code",
   "execution_count": 1,
   "metadata": {},
   "outputs": [],
   "source": [
    "# 生のデータセットを読み込む\n",
    "def load_raw_dataset():\n",
    "\n",
    "    import csv\n",
    "    \n",
    "    raw_dataset = []\n",
    "\n",
    "    csv_file = open(\"data/password_strength.csv\", newline='', encoding=\"utf-8_sig\")\n",
    "    reader = csv.reader(csv_file)\n",
    "\n",
    "    # csv ファイルの各行を確認\n",
    "    for line in reader:\n",
    "         \n",
    "        password = line[0]\n",
    "        strength = line[1]\n",
    "        \n",
    "        # 強さが数値じゃなければ、使わない\n",
    "        if not strength.isnumeric():\n",
    "            continue\n",
    "    \n",
    "        raw_dataset.append((password, int(strength)))\n",
    "\n",
    "    return raw_dataset"
   ]
  },
  {
   "cell_type": "code",
   "execution_count": 2,
   "metadata": {},
   "outputs": [
    {
     "name": "stdout",
     "output_type": "stream",
     "text": [
      "[('nahpets', 0), ('sasa2727', 1), ('lilboost', 2), ('4408tiiyt', 3), ('schuessler', 3), ('1033704045', 3), ('smurfy23', 2), ('milagrsy gernys', 4), ('7h0mp50n', 0), ('wutsuphomeboy', 3), ('TERESA', 0), ('hoddboty1', 3), ('patty', 0), ('lucky038', 1), ('Tummykiwi151', 4), ('pipsonly1', 3), ('akamaru16', 3), ('45192480093', 3), ('smurf26', 2), ('25761838', 2)]\n"
     ]
    }
   ],
   "source": [
    "# 読み込んで、最初の20件を表示\n",
    "raw_dataset = load_raw_dataset()\n",
    "print(raw_dataset[0:20])"
   ]
  },
  {
   "cell_type": "markdown",
   "metadata": {},
   "source": [
    "## 前処理\n",
    "\n",
    "パスワード自体をネットワークの入力に変換できるため、前処理をしなければならない。\n",
    "\n",
    "今回はパスワードのなｇ"
   ]
  },
  {
   "cell_type": "code",
   "execution_count": 3,
   "metadata": {},
   "outputs": [],
   "source": [
    "def count_letters(password):\n",
    "    \n",
    "    count_length = 0\n",
    "    count_small  = 0\n",
    "    count_large  = 0\n",
    "    count_number = 0\n",
    "    count_symbol = 0   \n",
    "        \n",
    "    for ch in password:\n",
    "        \n",
    "        count_length += 1\n",
    "        \n",
    "        if ch.isdigit():\n",
    "            count_number += 1\n",
    "        elif ch.islower():\n",
    "            count_small  += 1\n",
    "        elif ch.isupper():\n",
    "            count_large  += 1\n",
    "        else:\n",
    "            count_symbol += 1\n",
    "            \n",
    "    return count_length, count_small, count_large, count_number, count_symbol"
   ]
  },
  {
   "cell_type": "code",
   "execution_count": 4,
   "metadata": {},
   "outputs": [
    {
     "name": "stdout",
     "output_type": "stream",
     "text": [
      "(9, 2, 2, 4, 1)\n"
     ]
    }
   ],
   "source": [
    "count = count_letters(\"1234abCD!\")\n",
    "print(count)"
   ]
  },
  {
   "cell_type": "code",
   "execution_count": 5,
   "metadata": {},
   "outputs": [],
   "source": [
    "def password_to_input(password):\n",
    "    \n",
    "    count = count_letters(password)\n",
    "    max_length = 20\n",
    "    \n",
    "    x = [0, 0, 0, 0, 0]\n",
    "\n",
    "    x[0] = min(count[0], max_length) / max_length\n",
    "    x[1] = min(count[1], max_length) / max_length\n",
    "    x[2] = min(count[2], max_length) / max_length\n",
    "    x[3] = min(count[3], max_length) / max_length\n",
    "    x[4] = min(count[4], 1)\n",
    "    \n",
    "    return x"
   ]
  },
  {
   "cell_type": "code",
   "execution_count": 6,
   "metadata": {},
   "outputs": [
    {
     "name": "stdout",
     "output_type": "stream",
     "text": [
      "(9, 2, 2, 4, 1)\n",
      "[0.45, 0.1, 0.1, 0.2, 1]\n"
     ]
    }
   ],
   "source": [
    "test = \"1234abCD!\"\n",
    "print (count_letters(test))\n",
    "print (password_to_input(test))"
   ]
  },
  {
   "cell_type": "code",
   "execution_count": 7,
   "metadata": {},
   "outputs": [
    {
     "name": "stdout",
     "output_type": "stream",
     "text": [
      "(15, 2, 5, 4, 4)\n",
      "[0.75, 0.1, 0.25, 0.2, 1]\n"
     ]
    }
   ],
   "source": [
    "test = \"1234abCDDDD!!!!\"\n",
    "print (count_letters(test))\n",
    "print (password_to_input(test))"
   ]
  },
  {
   "cell_type": "code",
   "execution_count": 8,
   "metadata": {},
   "outputs": [],
   "source": [
    "def password_to_input(password):\n",
    "    \n",
    "    count = count_letters(password)\n",
    "    max_length = 20\n",
    "    \n",
    "    x = [0, 0, 0, 0, 0]\n",
    "\n",
    "    x[0] = min(count[0], max_length) / max_length\n",
    "    x[1] = min(count[1], count[0]) / count[0]\n",
    "    x[2] = min(count[2], count[0]) / count[0]\n",
    "    x[3] = min(count[3], count[0]) / count[0]\n",
    "    x[4] = min(count[4], 1)\n",
    "    \n",
    "    return x"
   ]
  },
  {
   "cell_type": "code",
   "execution_count": 9,
   "metadata": {},
   "outputs": [
    {
     "name": "stdout",
     "output_type": "stream",
     "text": [
      "(9, 2, 2, 4, 1)\n",
      "[0.45, 0.2222222222222222, 0.2222222222222222, 0.4444444444444444, 1]\n"
     ]
    }
   ],
   "source": [
    "test = \"1234abCD!\"\n",
    "print (count_letters(test))\n",
    "print (password_to_input(test))"
   ]
  },
  {
   "cell_type": "code",
   "execution_count": 10,
   "metadata": {},
   "outputs": [
    {
     "name": "stdout",
     "output_type": "stream",
     "text": [
      "(15, 2, 5, 4, 4)\n",
      "[0.75, 0.13333333333333333, 0.3333333333333333, 0.26666666666666666, 1]\n"
     ]
    }
   ],
   "source": [
    "test = \"1234abCDDDD!!!!\"\n",
    "print (count_letters(test))\n",
    "print (password_to_input(test))"
   ]
  },
  {
   "cell_type": "code",
   "execution_count": 11,
   "metadata": {},
   "outputs": [],
   "source": [
    "def strength_to_onehot(strength):\n",
    "    \n",
    "    y = [0.0, 0.0, 0.0, 0.0, 0.0]\n",
    "    y[strength] = 1.0\n",
    "    \n",
    "    return y"
   ]
  },
  {
   "cell_type": "code",
   "execution_count": 12,
   "metadata": {},
   "outputs": [],
   "source": [
    "import numpy as np\n",
    "\n",
    "def prepare_dataset(raw_dataset):\n",
    "    \n",
    "    data_x = []\n",
    "    data_y = []\n",
    "    \n",
    "    for line in raw_dataset:\n",
    "        \n",
    "        password = line[0]\n",
    "        strength = line[1]\n",
    "\n",
    "        x = password_to_input(password)\n",
    "        y = strength_to_onehot(strength)\n",
    "    \n",
    "        data_x.append(x)\n",
    "        data_y.append(y)\n",
    "\n",
    "    data_x = np.array(data_x)\n",
    "    data_y = np.array(data_y)\n",
    "    \n",
    "    return data_x, data_y\n",
    "\n",
    "data_x, data_y = prepare_dataset(raw_dataset)"
   ]
  },
  {
   "cell_type": "code",
   "execution_count": 13,
   "metadata": {},
   "outputs": [
    {
     "name": "stdout",
     "output_type": "stream",
     "text": [
      "[[0.35       1.         0.         0.         0.        ]\n",
      " [0.4        0.5        0.         0.5        0.        ]\n",
      " [0.4        1.         0.         0.         0.        ]\n",
      " [0.45       0.55555556 0.         0.44444444 0.        ]\n",
      " [0.5        1.         0.         0.         0.        ]\n",
      " [0.5        0.         0.         1.         0.        ]\n",
      " [0.4        0.75       0.         0.25       0.        ]\n",
      " [0.75       0.93333333 0.         0.         1.        ]\n",
      " [0.4        0.5        0.         0.5        0.        ]\n",
      " [0.65       1.         0.         0.         0.        ]\n",
      " [0.3        0.         1.         0.         0.        ]\n",
      " [0.45       0.88888889 0.         0.11111111 0.        ]\n",
      " [0.25       1.         0.         0.         0.        ]\n",
      " [0.4        0.625      0.         0.375      0.        ]\n",
      " [0.6        0.66666667 0.08333333 0.25       0.        ]\n",
      " [0.45       0.88888889 0.         0.11111111 0.        ]\n",
      " [0.45       0.77777778 0.         0.22222222 0.        ]\n",
      " [0.55       0.         0.         1.         0.        ]\n",
      " [0.35       0.71428571 0.         0.28571429 0.        ]\n",
      " [0.4        0.         0.         1.         0.        ]]\n",
      "[[1. 0. 0. 0. 0.]\n",
      " [0. 1. 0. 0. 0.]\n",
      " [0. 0. 1. 0. 0.]\n",
      " [0. 0. 0. 1. 0.]\n",
      " [0. 0. 0. 1. 0.]\n",
      " [0. 0. 0. 1. 0.]\n",
      " [0. 0. 1. 0. 0.]\n",
      " [0. 0. 0. 0. 1.]\n",
      " [1. 0. 0. 0. 0.]\n",
      " [0. 0. 0. 1. 0.]\n",
      " [1. 0. 0. 0. 0.]\n",
      " [0. 0. 0. 1. 0.]\n",
      " [1. 0. 0. 0. 0.]\n",
      " [0. 1. 0. 0. 0.]\n",
      " [0. 0. 0. 0. 1.]\n",
      " [0. 0. 0. 1. 0.]\n",
      " [0. 0. 0. 1. 0.]\n",
      " [0. 0. 0. 1. 0.]\n",
      " [0. 0. 1. 0. 0.]\n",
      " [0. 0. 1. 0. 0.]]\n"
     ]
    }
   ],
   "source": [
    "print(data_x[0:20])\n",
    "print(data_y[0:20])"
   ]
  },
  {
   "cell_type": "code",
   "execution_count": 14,
   "metadata": {},
   "outputs": [
    {
     "name": "stdout",
     "output_type": "stream",
     "text": [
      "Model: \"functional_1\"\n",
      "_________________________________________________________________\n",
      "Layer (type)                 Output Shape              Param #   \n",
      "=================================================================\n",
      "input_1 (InputLayer)         [(None, 5)]               0         \n",
      "_________________________________________________________________\n",
      "dense (Dense)                (None, 16)                96        \n",
      "_________________________________________________________________\n",
      "dense_1 (Dense)              (None, 32)                544       \n",
      "_________________________________________________________________\n",
      "dense_2 (Dense)              (None, 64)                2112      \n",
      "_________________________________________________________________\n",
      "dense_3 (Dense)              (None, 32)                2080      \n",
      "_________________________________________________________________\n",
      "dense_4 (Dense)              (None, 16)                528       \n",
      "_________________________________________________________________\n",
      "dense_5 (Dense)              (None, 5)                 85        \n",
      "=================================================================\n",
      "Total params: 5,445\n",
      "Trainable params: 5,445\n",
      "Non-trainable params: 0\n",
      "_________________________________________________________________\n"
     ]
    }
   ],
   "source": [
    "from keras.layers import Input, Dense\n",
    "from keras.models import Model\n",
    "\n",
    "def create_model():\n",
    "    \n",
    "    lyr_input = Input(shape=(5,))\n",
    "    lyr_hiddn = Dense(units=16, activation=\"relu\")(lyr_input)\n",
    "    lyr_hiddn = Dense(units=32, activation=\"relu\")(lyr_hiddn)\n",
    "    lyr_hiddn = Dense(units=64, activation=\"relu\")(lyr_hiddn)\n",
    "    lyr_hiddn = Dense(units=32, activation=\"relu\")(lyr_hiddn)\n",
    "    lyr_hiddn = Dense(units=16, activation=\"relu\")(lyr_hiddn)\n",
    "    lyr_outpt = Dense(units=5, activation=\"softmax\")(lyr_hiddn)\n",
    "    \n",
    "    model = Model(inputs=lyr_input, outputs=lyr_outpt)\n",
    "    model.summary()\n",
    "    \n",
    "    model.compile(optimizer=\"adam\", loss=\"categorical_crossentropy\")\n",
    "    \n",
    "    return model\n",
    "    \n",
    "model = create_model()"
   ]
  },
  {
   "cell_type": "code",
   "execution_count": 15,
   "metadata": {},
   "outputs": [
    {
     "name": "stdout",
     "output_type": "stream",
     "text": [
      "Epoch 1/20\n",
      "2866/2866 [==============================] - 3s 1ms/step - loss: 0.9137 - val_loss: 0.8386\n",
      "Epoch 2/20\n",
      "2866/2866 [==============================] - 3s 1ms/step - loss: 0.8433 - val_loss: 0.8882\n",
      "Epoch 3/20\n",
      "2866/2866 [==============================] - 4s 1ms/step - loss: 0.8363 - val_loss: 0.8400\n",
      "Epoch 4/20\n",
      "2866/2866 [==============================] - 5s 2ms/step - loss: 0.8329 - val_loss: 0.8271\n",
      "Epoch 5/20\n",
      "2866/2866 [==============================] - 4s 1ms/step - loss: 0.8306 - val_loss: 0.8312\n",
      "Epoch 6/20\n",
      "2866/2866 [==============================] - 4s 1ms/step - loss: 0.8284 - val_loss: 0.8225\n",
      "Epoch 7/20\n",
      "2866/2866 [==============================] - 5s 2ms/step - loss: 0.8261 - val_loss: 0.8254\n",
      "Epoch 8/20\n",
      "2866/2866 [==============================] - 5s 2ms/step - loss: 0.8248 - val_loss: 0.8270\n",
      "Epoch 9/20\n",
      "2866/2866 [==============================] - 4s 2ms/step - loss: 0.8235 - val_loss: 0.8183\n",
      "Epoch 10/20\n",
      "2866/2866 [==============================] - 6s 2ms/step - loss: 0.8221 - val_loss: 0.8234\n",
      "Epoch 11/20\n",
      "2866/2866 [==============================] - 4s 2ms/step - loss: 0.8211 - val_loss: 0.8228\n",
      "Epoch 12/20\n",
      "2866/2866 [==============================] - 5s 2ms/step - loss: 0.8198 - val_loss: 0.8798\n",
      "Epoch 13/20\n",
      "2866/2866 [==============================] - 4s 2ms/step - loss: 0.8196 - val_loss: 0.8228\n",
      "Epoch 14/20\n",
      "2866/2866 [==============================] - 5s 2ms/step - loss: 0.8187 - val_loss: 0.8185\n",
      "Epoch 15/20\n",
      "2866/2866 [==============================] - 5s 2ms/step - loss: 0.8187 - val_loss: 0.8332\n",
      "Epoch 16/20\n",
      "2866/2866 [==============================] - 6s 2ms/step - loss: 0.8159 - val_loss: 0.8141\n",
      "Epoch 17/20\n",
      "2866/2866 [==============================] - 4s 1ms/step - loss: 0.8166 - val_loss: 0.8250\n",
      "Epoch 18/20\n",
      "2866/2866 [==============================] - 4s 1ms/step - loss: 0.8145 - val_loss: 0.8155\n",
      "Epoch 19/20\n",
      "2866/2866 [==============================] - 5s 2ms/step - loss: 0.8148 - val_loss: 0.8136\n",
      "Epoch 20/20\n",
      "2866/2866 [==============================] - 6s 2ms/step - loss: 0.8137 - val_loss: 0.8118\n"
     ]
    },
    {
     "data": {
      "text/plain": [
       "<tensorflow.python.keras.callbacks.History at 0x271986a73a0>"
      ]
     },
     "execution_count": 15,
     "metadata": {},
     "output_type": "execute_result"
    }
   ],
   "source": [
    "# 学習開始\n",
    "# 検証用のデータ割合：20%\n",
    "model.fit(data_x, data_y, epochs=20, batch_size=50, validation_split=0.2)"
   ]
  },
  {
   "cell_type": "code",
   "execution_count": 16,
   "metadata": {},
   "outputs": [],
   "source": [
    "np.set_printoptions(suppress = True)\n",
    "\n",
    "def test_password(password):\n",
    "    \n",
    "    # １つのパスワードを確認\n",
    "    x = password_to_input(password)\n",
    "    x = [x]\n",
    "    x = np.array(x)\n",
    "    \n",
    "    # 推定\n",
    "    y = model.predict(x)[0]\n",
    "\n",
    "    print(\"Prediction:\", y)\n",
    "    \n",
    "    # もっとも信頼性が高いものがどれ？\n",
    "    best = np.argmax(y)\n",
    "    confidence = y[best] * 100\n",
    "    \n",
    "    # 強さを1~5で表示\n",
    "    print(\"Password Strength\", best + 1)\n",
    "    \n",
    "    # 信頼性も表示する\n",
    "    print(\"Confidence:\", confidence)"
   ]
  },
  {
   "cell_type": "code",
   "execution_count": 17,
   "metadata": {},
   "outputs": [
    {
     "name": "stdout",
     "output_type": "stream",
     "text": [
      "Prediction: [0.23067302 0.25865573 0.5104322  0.00023915 0.        ]\n",
      "Password Strength 3\n",
      "Confidence: 51.04321837425232\n"
     ]
    }
   ],
   "source": [
    "test_password(\"password\")"
   ]
  },
  {
   "cell_type": "code",
   "execution_count": 18,
   "metadata": {},
   "outputs": [
    {
     "name": "stdout",
     "output_type": "stream",
     "text": [
      "Prediction: [0.02724372 0.20591702 0.27530718 0.49153206 0.        ]\n",
      "Password Strength 4\n",
      "Confidence: 49.15320575237274\n"
     ]
    }
   ],
   "source": [
    "test_password(\"1sdssig3!\")"
   ]
  },
  {
   "cell_type": "code",
   "execution_count": 19,
   "metadata": {},
   "outputs": [
    {
     "name": "stdout",
     "output_type": "stream",
     "text": [
      "Prediction: [0.06281839 0.17576934 0.76135224 0.00005996 0.        ]\n",
      "Password Strength 3\n",
      "Confidence: 76.13522410392761\n"
     ]
    }
   ],
   "source": [
    "test_password(\"abcd1234\")"
   ]
  },
  {
   "cell_type": "code",
   "execution_count": 20,
   "metadata": {},
   "outputs": [
    {
     "name": "stdout",
     "output_type": "stream",
     "text": [
      "Prediction: [0.12943123 0.06086858 0.8096852  0.00001495 0.        ]\n",
      "Password Strength 3\n",
      "Confidence: 80.96851706504822\n"
     ]
    }
   ],
   "source": [
    "test_password(\"Ab#d!23X\")"
   ]
  },
  {
   "cell_type": "code",
   "execution_count": 21,
   "metadata": {},
   "outputs": [
    {
     "name": "stdout",
     "output_type": "stream",
     "text": [
      "Prediction: [0.00028184 0.00079277 0.00209533 0.05499764 0.94183236]\n",
      "Password Strength 5\n",
      "Confidence: 94.18323636054993\n"
     ]
    }
   ],
   "source": [
    "test_password(\"1e@332!!#asAAS\")"
   ]
  },
  {
   "cell_type": "code",
   "execution_count": 22,
   "metadata": {},
   "outputs": [
    {
     "name": "stdout",
     "output_type": "stream",
     "text": [
      "Prediction: [0.06595595 0.0398076  0.0328228  0.14875019 0.7126634 ]\n",
      "Password Strength 5\n",
      "Confidence: 71.26634120941162\n"
     ]
    }
   ],
   "source": [
    "test_password(\"aaaaaaaaaaaaaa\")"
   ]
  },
  {
   "cell_type": "code",
   "execution_count": 23,
   "metadata": {},
   "outputs": [
    {
     "name": "stdout",
     "output_type": "stream",
     "text": [
      "[0.55, 0.0, 0.0, 1.0, 0]\n",
      "Prediction: [0.00950857 0.00985732 0.03383746 0.8842059  0.06259079]\n",
      "Password Strength 4\n",
      "Confidence: 88.42058777809143\n"
     ]
    }
   ],
   "source": [
    "test = \"11111111111\"\n",
    "print(password_to_input(test))\n",
    "test_password(test)"
   ]
  }
 ],
 "metadata": {
  "kernelspec": {
   "display_name": "Python 3 (ipykernel)",
   "language": "python",
   "name": "python3"
  },
  "language_info": {
   "codemirror_mode": {
    "name": "ipython",
    "version": 3
   },
   "file_extension": ".py",
   "mimetype": "text/x-python",
   "name": "python",
   "nbconvert_exporter": "python",
   "pygments_lexer": "ipython3",
   "version": "3.8.17"
  }
 },
 "nbformat": 4,
 "nbformat_minor": 4
}
