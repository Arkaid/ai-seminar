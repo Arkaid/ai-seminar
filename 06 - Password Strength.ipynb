{
 "cells": [
  {
   "cell_type": "markdown",
   "metadata": {},
   "source": [
    "# パスワードの強さを確認しよう\n",
    "\n",
    "まずは、データセットを読み込んで、確認しましょう。\n",
    "\n",
    "※：データセットのURL:\n",
    "https://www.kaggle.com/bhavikbb/password-strength-classifier-dataset"
   ]
  },
  {
   "cell_type": "code",
   "execution_count": 1,
   "metadata": {},
   "outputs": [],
   "source": [
    "# 生のデータセットを読み込む\n",
    "def load_raw_dataset():\n",
    "\n",
    "    import csv\n",
    "    \n",
    "    raw_dataset = []\n",
    "\n",
    "    csv_file = open(\"data/password_strength.csv\", newline='', encoding=\"utf-8_sig\")\n",
    "    reader = csv.reader(csv_file)\n",
    "\n",
    "    # csv ファイルの各行を確認\n",
    "    for line in reader:\n",
    "         \n",
    "        password = line[0]\n",
    "        strength = line[1]\n",
    "        \n",
    "        # 強さが数値じゃなければ、使わない\n",
    "        if not strength.isnumeric():\n",
    "            continue\n",
    "    \n",
    "        raw_dataset.append((password, int(strength)))\n",
    "\n",
    "    return raw_dataset"
   ]
  },
  {
   "cell_type": "code",
   "execution_count": 2,
   "metadata": {},
   "outputs": [
    {
     "name": "stdout",
     "output_type": "stream",
     "text": [
      "[('kzde5577', 1), ('kino3434', 1), ('visi7k1yr', 1), ('megzy123', 1), ('lamborghin1', 1), ('AVYq1lDE4MgAZfNt', 2), ('u6c8vhow', 1), ('v1118714', 1), ('universe2908', 1), ('as326159', 1), ('asv5o9yu', 1), ('612035180tok', 1), ('jytifok873', 1), ('WUt9IZzE0OQ7PkNE', 2), ('jerusalem393', 1), ('g067057895', 1), ('52558000aaa', 1), ('idofo673', 1), ('6975038lp', 1), ('sbl571017', 1)]\n"
     ]
    }
   ],
   "source": [
    "# 読み込んで、最初の20件を表示\n",
    "raw_dataset = load_raw_dataset()\n",
    "print(raw_dataset[0:20])"
   ]
  },
  {
   "cell_type": "markdown",
   "metadata": {},
   "source": [
    "## パスワードの数値化：特徴を抽出\n",
    "\n",
    "文字のままでAIを学習できないので、我々AIエンジニアとして文字データを数値化しないといけない。\n",
    "\n",
    "このため、パスワードの「特徴」を考えて、数値化しましょう。単純にすると、５つの特徴が考えられる：\n",
    "\n",
    "- パスワードの文字数：正規化された長さ（０～１）\n",
    "- 小文字があるか？（0 か 1）\n",
    "- 大文字があるか？（0 か 1）\n",
    "- 数字キャラクターがあるか？（0 か 1）\n",
    "- 記号があるか？（0 か 1）"
   ]
  },
  {
   "cell_type": "code",
   "execution_count": 3,
   "metadata": {},
   "outputs": [],
   "source": [
    "# パスワードの長さ（正規化）を返す\n",
    "def get_password_length(password):\n",
    "    \n",
    "    # パスワードの最大の長さ\n",
    "    max_password_length = 20\n",
    "\n",
    "    # 長さを求める\n",
    "    password_length = len(password)\n",
    "    \n",
    "    # 最大を超えないように\n",
    "    password_length = min(password_length, max_password_length)\n",
    "    \n",
    "    # 正規化（0 ～ 1）\n",
    "    password_length = password_length / max_password_length\n",
    "    \n",
    "    return password_length"
   ]
  },
  {
   "cell_type": "code",
   "execution_count": 4,
   "metadata": {},
   "outputs": [
    {
     "name": "stdout",
     "output_type": "stream",
     "text": [
      "0.5\n"
     ]
    }
   ],
   "source": [
    "print(get_password_length(\"abcdefghij\"))"
   ]
  },
  {
   "cell_type": "code",
   "execution_count": 5,
   "metadata": {},
   "outputs": [],
   "source": [
    "# 正規表現を使う\n",
    "import re\n",
    "\n",
    "# 小文字あるか？\n",
    "def has_small(text):\n",
    "    small = \"[a-z]\"\n",
    "\n",
    "    if re.search(small, text) is None:\n",
    "        return 0\n",
    "    else:\n",
    "        return 1"
   ]
  },
  {
   "cell_type": "code",
   "execution_count": 6,
   "metadata": {},
   "outputs": [
    {
     "name": "stdout",
     "output_type": "stream",
     "text": [
      "0\n",
      "1\n"
     ]
    }
   ],
   "source": [
    "print(has_small(\"HELLO\"))\n",
    "print(has_small(\"HeLLO\"))"
   ]
  },
  {
   "cell_type": "code",
   "execution_count": 7,
   "metadata": {},
   "outputs": [],
   "source": [
    "# 大文字あるか？\n",
    "def has_large(text):\n",
    "    large = \"[A-Z]\"\n",
    "\n",
    "    if re.search(large, text) is None:\n",
    "        return 0\n",
    "    else:\n",
    "        return 1"
   ]
  },
  {
   "cell_type": "code",
   "execution_count": 8,
   "metadata": {},
   "outputs": [
    {
     "name": "stdout",
     "output_type": "stream",
     "text": [
      "0\n",
      "1\n"
     ]
    }
   ],
   "source": [
    "print(has_large(\"hello\"))\n",
    "print(has_large(\"hEllo\"))"
   ]
  },
  {
   "cell_type": "code",
   "execution_count": 9,
   "metadata": {},
   "outputs": [],
   "source": [
    "# 数値がある場合は「1」ない場合は「0」を返す\n",
    "def has_numbers(text):\n",
    "    \n",
    "    numbers = \"[1234567890]\"\n",
    "    \n",
    "    if re.search(numbers, text) is None:\n",
    "        return 0\n",
    "    else:\n",
    "        return 1"
   ]
  },
  {
   "cell_type": "code",
   "execution_count": 10,
   "metadata": {},
   "outputs": [
    {
     "name": "stdout",
     "output_type": "stream",
     "text": [
      "0\n",
      "1\n"
     ]
    }
   ],
   "source": [
    "print(has_numbers(\"hello\"))\n",
    "print(has_numbers(\"h3llo\"))"
   ]
  },
  {
   "cell_type": "code",
   "execution_count": 11,
   "metadata": {},
   "outputs": [],
   "source": [
    "# 記号がある場合は「1」ない場合は「0」を返す\n",
    "def has_symbols(text):\n",
    "    \n",
    "    symbols = \"[-!$%^&*()_+|~=`{}\\[\\]:\\\";'<>?,.\\/@]\"\n",
    "\n",
    "    if re.search(symbols, text) is None:\n",
    "        return 0\n",
    "    else:\n",
    "        return 1"
   ]
  },
  {
   "cell_type": "code",
   "execution_count": 12,
   "metadata": {},
   "outputs": [
    {
     "name": "stdout",
     "output_type": "stream",
     "text": [
      "0\n",
      "1\n"
     ]
    }
   ],
   "source": [
    "print(has_symbols(\"hello\"))\n",
    "print(has_symbols(\"h?llo\"))"
   ]
  },
  {
   "cell_type": "markdown",
   "metadata": {},
   "source": [
    "## パスワードを特徴ベクトルに変換\n",
    "\n",
    "上記の３つの関数を使って、文字列をAIに入力できるベクトルに変換"
   ]
  },
  {
   "cell_type": "code",
   "execution_count": 13,
   "metadata": {},
   "outputs": [],
   "source": [
    "def password_to_features(password):\n",
    "    \n",
    "    x = [0, 0, 0, 0, 0]\n",
    "\n",
    "    x[0] = get_password_length(password)\n",
    "    x[1] = has_small(password)\n",
    "    x[2] = has_large(password)\n",
    "    x[3] = has_numbers(password)\n",
    "    x[4] = has_symbols(password)\n",
    "    \n",
    "    return x"
   ]
  },
  {
   "cell_type": "code",
   "execution_count": 14,
   "metadata": {},
   "outputs": [
    {
     "name": "stdout",
     "output_type": "stream",
     "text": [
      "[0.25, 1, 0, 0, 0]\n",
      "[0.25, 1, 0, 1, 0]\n",
      "[0.35, 1, 0, 1, 1]\n"
     ]
    }
   ],
   "source": [
    "print(password_to_features(\"hello\"))\n",
    "print(password_to_features(\"h3llo\"))\n",
    "print(password_to_features(\"h3?lo!!\"))"
   ]
  },
  {
   "cell_type": "markdown",
   "metadata": {},
   "source": [
    "**出力も、「one-hot encoding」でベクトル化しましょう。**"
   ]
  },
  {
   "cell_type": "code",
   "execution_count": 15,
   "metadata": {},
   "outputs": [],
   "source": [
    "def strength_to_onehot(strength):\n",
    "    \n",
    "    y = [0.0, 0.0, 0.0]\n",
    "    y[strength] = 1.0\n",
    "    \n",
    "    return y"
   ]
  },
  {
   "cell_type": "code",
   "execution_count": 16,
   "metadata": {},
   "outputs": [
    {
     "name": "stdout",
     "output_type": "stream",
     "text": [
      "[1.0, 0.0, 0.0]\n",
      "[0.0, 1.0, 0.0]\n",
      "[0.0, 0.0, 1.0]\n"
     ]
    }
   ],
   "source": [
    "print(strength_to_onehot(0))\n",
    "print(strength_to_onehot(1))\n",
    "print(strength_to_onehot(2))"
   ]
  },
  {
   "cell_type": "markdown",
   "metadata": {},
   "source": [
    "## データセットの前処理\n",
    "\n",
    "これでrawのデータをAIに入力できる形にできる"
   ]
  },
  {
   "cell_type": "code",
   "execution_count": 17,
   "metadata": {},
   "outputs": [],
   "source": [
    "import numpy as np\n",
    "\n",
    "def prepare_dataset(raw_dataset):\n",
    "    \n",
    "    data_x = []\n",
    "    data_y = []\n",
    "    \n",
    "    for line in raw_dataset:\n",
    "        \n",
    "        password = line[0]\n",
    "        strength = line[1]\n",
    "\n",
    "        x = password_to_features(password)\n",
    "        y = strength_to_onehot(strength)\n",
    "    \n",
    "        data_x.append(x)\n",
    "        data_y.append(y)\n",
    "\n",
    "    data_x = np.array(data_x)\n",
    "    data_y = np.array(data_y)\n",
    "    \n",
    "    return data_x, data_y\n",
    "\n",
    "data_x, data_y = prepare_dataset(raw_dataset)"
   ]
  },
  {
   "cell_type": "code",
   "execution_count": 18,
   "metadata": {},
   "outputs": [
    {
     "name": "stdout",
     "output_type": "stream",
     "text": [
      "[[0.4  1.   0.   1.   0.  ]\n",
      " [0.4  1.   0.   1.   0.  ]\n",
      " [0.45 1.   0.   1.   0.  ]\n",
      " [0.4  1.   0.   1.   0.  ]\n",
      " [0.55 1.   0.   1.   0.  ]\n",
      " [0.8  1.   1.   1.   0.  ]\n",
      " [0.4  1.   0.   1.   0.  ]\n",
      " [0.4  1.   0.   1.   0.  ]\n",
      " [0.6  1.   0.   1.   0.  ]\n",
      " [0.4  1.   0.   1.   0.  ]\n",
      " [0.4  1.   0.   1.   0.  ]\n",
      " [0.6  1.   0.   1.   0.  ]\n",
      " [0.5  1.   0.   1.   0.  ]\n",
      " [0.8  1.   1.   1.   0.  ]\n",
      " [0.6  1.   0.   1.   0.  ]\n",
      " [0.5  1.   0.   1.   0.  ]\n",
      " [0.55 1.   0.   1.   0.  ]\n",
      " [0.4  1.   0.   1.   0.  ]\n",
      " [0.45 1.   0.   1.   0.  ]\n",
      " [0.45 1.   0.   1.   0.  ]]\n",
      "[[0. 1. 0.]\n",
      " [0. 1. 0.]\n",
      " [0. 1. 0.]\n",
      " [0. 1. 0.]\n",
      " [0. 1. 0.]\n",
      " [0. 0. 1.]\n",
      " [0. 1. 0.]\n",
      " [0. 1. 0.]\n",
      " [0. 1. 0.]\n",
      " [0. 1. 0.]\n",
      " [0. 1. 0.]\n",
      " [0. 1. 0.]\n",
      " [0. 1. 0.]\n",
      " [0. 0. 1.]\n",
      " [0. 1. 0.]\n",
      " [0. 1. 0.]\n",
      " [0. 1. 0.]\n",
      " [0. 1. 0.]\n",
      " [0. 1. 0.]\n",
      " [0. 1. 0.]]\n"
     ]
    }
   ],
   "source": [
    "print(data_x[0:20])\n",
    "print(data_y[0:20])"
   ]
  },
  {
   "cell_type": "markdown",
   "metadata": {},
   "source": [
    "## モデルを作成し、学習しましょう！"
   ]
  },
  {
   "cell_type": "code",
   "execution_count": 19,
   "metadata": {},
   "outputs": [
    {
     "name": "stdout",
     "output_type": "stream",
     "text": [
      "Model: \"functional_1\"\n",
      "_________________________________________________________________\n",
      "Layer (type)                 Output Shape              Param #   \n",
      "=================================================================\n",
      "input_1 (InputLayer)         [(None, 5)]               0         \n",
      "_________________________________________________________________\n",
      "dense (Dense)                (None, 10)                60        \n",
      "_________________________________________________________________\n",
      "dense_1 (Dense)              (None, 10)                110       \n",
      "_________________________________________________________________\n",
      "dense_2 (Dense)              (None, 3)                 33        \n",
      "=================================================================\n",
      "Total params: 203\n",
      "Trainable params: 203\n",
      "Non-trainable params: 0\n",
      "_________________________________________________________________\n"
     ]
    }
   ],
   "source": [
    "from keras.layers import Input, Dense\n",
    "from keras.models import Model\n",
    "\n",
    "def create_model():\n",
    "    \n",
    "    lyr_input = Input(shape=(5,))\n",
    "    lyr_hiddn = Dense(units=10, activation=\"relu\")(lyr_input)\n",
    "    lyr_hiddn = Dense(units=10, activation=\"relu\")(lyr_hiddn)\n",
    "    lyr_outpt = Dense(units=3, activation=\"softmax\")(lyr_hiddn)\n",
    "    \n",
    "    model = Model(inputs=lyr_input, outputs=lyr_outpt)\n",
    "    model.summary()\n",
    "    \n",
    "    model.compile(optimizer=\"adam\", loss=\"categorical_crossentropy\")\n",
    "    \n",
    "    return model\n",
    "    \n",
    "model = create_model()"
   ]
  },
  {
   "cell_type": "code",
   "execution_count": 20,
   "metadata": {},
   "outputs": [
    {
     "name": "stdout",
     "output_type": "stream",
     "text": [
      "Epoch 1/5\n",
      "10715/10715 [==============================] - 6s 517us/step - loss: 0.0644 - val_loss: 0.0014\n",
      "Epoch 2/5\n",
      "10715/10715 [==============================] - 5s 508us/step - loss: 8.4842e-04 - val_loss: 0.0011\n",
      "Epoch 3/5\n",
      "10715/10715 [==============================] - 5s 511us/step - loss: 5.2661e-04 - val_loss: 5.3694e-04\n",
      "Epoch 4/5\n",
      "10715/10715 [==============================] - 6s 523us/step - loss: 3.7913e-04 - val_loss: 3.3701e-04\n",
      "Epoch 5/5\n",
      "10715/10715 [==============================] - 5s 499us/step - loss: 2.8710e-04 - val_loss: 3.4630e-04\n"
     ]
    },
    {
     "data": {
      "text/plain": [
       "<tensorflow.python.keras.callbacks.History at 0x222411d7c48>"
      ]
     },
     "execution_count": 20,
     "metadata": {},
     "output_type": "execute_result"
    }
   ],
   "source": [
    "# 学習開始\n",
    "# 検証用のデータ割合：20%\n",
    "model.fit(data_x, data_y, epochs=5, batch_size=50, validation_split=0.2)"
   ]
  },
  {
   "cell_type": "markdown",
   "metadata": {},
   "source": [
    "## では、パスワードを確認しましょう"
   ]
  },
  {
   "cell_type": "code",
   "execution_count": 31,
   "metadata": {},
   "outputs": [],
   "source": [
    "np.set_printoptions(suppress = True)\n",
    "\n",
    "def test_password(password):\n",
    "    \n",
    "    # １つのパスワードを確認\n",
    "    x = password_to_features(password)\n",
    "    x = [x]\n",
    "    x = np.array(x)\n",
    "    \n",
    "    # 推定\n",
    "    y = model.predict(x)[0]\n",
    "\n",
    "    print(\"Prediction:\", y)\n",
    "    \n",
    "    # もっとも信頼性が高いものがどれ？\n",
    "    best = np.argmax(y)\n",
    "    confidence = y[best] * 100\n",
    "    \n",
    "    if (best == 0):\n",
    "        print(\"Weak password!\")\n",
    "    elif (best == 1):\n",
    "        print(\"Normal password\")\n",
    "    else:\n",
    "        print(\"Strong password!!\")\n",
    "        \n",
    "    # 信頼性も表示する\n",
    "    print(\"Confidence:\", confidence)"
   ]
  },
  {
   "cell_type": "code",
   "execution_count": 32,
   "metadata": {},
   "outputs": [
    {
     "name": "stdout",
     "output_type": "stream",
     "text": [
      "Prediction: [0.99999905 0.00000098 0.        ]\n",
      "Weak password!\n",
      "Confidence: 99.99990463256836\n"
     ]
    }
   ],
   "source": [
    "test_password(\"hello\")"
   ]
  },
  {
   "cell_type": "code",
   "execution_count": 33,
   "metadata": {},
   "outputs": [
    {
     "name": "stdout",
     "output_type": "stream",
     "text": [
      "Prediction: [0.         0.9999651  0.00003493]\n",
      "Normal password\n",
      "Confidence: 99.99650716781616\n"
     ]
    }
   ],
   "source": [
    "test_password(\"1sdssig3!\")"
   ]
  },
  {
   "cell_type": "code",
   "execution_count": 34,
   "metadata": {},
   "outputs": [
    {
     "name": "stdout",
     "output_type": "stream",
     "text": [
      "Prediction: [0. 0. 1.]\n",
      "Strong password!!\n",
      "Confidence: 100.0\n"
     ]
    }
   ],
   "source": [
    "test_password(\"8m9a79ds&)da(@asd!aas3$\")"
   ]
  },
  {
   "cell_type": "code",
   "execution_count": 36,
   "metadata": {},
   "outputs": [
    {
     "name": "stdout",
     "output_type": "stream",
     "text": [
      "Prediction: [0.         0.000001   0.99999905]\n",
      "Strong password!!\n",
      "Confidence: 99.99990463256836\n"
     ]
    }
   ],
   "source": [
    "test_password(\"aaaaaaaaaaaaaaaaaaaaaaA\")"
   ]
  },
  {
   "cell_type": "markdown",
   "metadata": {},
   "source": [
    "## 議論、宿題：どう改善できると思う？"
   ]
  }
 ],
 "metadata": {
  "kernelspec": {
   "display_name": "Python 3",
   "language": "python",
   "name": "python3"
  },
  "language_info": {
   "codemirror_mode": {
    "name": "ipython",
    "version": 3
   },
   "file_extension": ".py",
   "mimetype": "text/x-python",
   "name": "python",
   "nbconvert_exporter": "python",
   "pygments_lexer": "ipython3",
   "version": "3.7.9"
  }
 },
 "nbformat": 4,
 "nbformat_minor": 4
}
